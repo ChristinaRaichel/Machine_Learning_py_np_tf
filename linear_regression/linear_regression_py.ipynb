{
 "cells": [
  {
   "cell_type": "code",
   "execution_count": 30,
   "metadata": {},
   "outputs": [],
   "source": [
    "import matplotlib.pyplot as plt\n",
    "from sklearn  import datasets\n",
    "from sklearn.model_selection  import train_test_split\n",
    "import math\n",
    "#importing libraries"
   ]
  },
  {
   "cell_type": "markdown",
   "metadata": {},
   "source": [
    "GD method - Simple Linear regression"
   ]
  },
  {
   "cell_type": "code",
   "execution_count": 3,
   "metadata": {},
   "outputs": [],
   "source": [
    "X, y = datasets.make_regression(n_samples=100,n_features=1, random_state=123)\n"
   ]
  },
  {
   "cell_type": "code",
   "execution_count": 4,
   "metadata": {},
   "outputs": [
    {
     "data": {
      "text/plain": [
       "((100, 1), (100,))"
      ]
     },
     "execution_count": 4,
     "metadata": {},
     "output_type": "execute_result"
    }
   ],
   "source": [
    "X.shape,y.shape"
   ]
  },
  {
   "cell_type": "code",
   "execution_count": 5,
   "metadata": {},
   "outputs": [],
   "source": [
    "X_train, X_test, Y_train, Y_test = train_test_split(X,y,shuffle= True)"
   ]
  },
  {
   "cell_type": "code",
   "execution_count": 6,
   "metadata": {},
   "outputs": [],
   "source": [
    "def dot(v1,v2):\n",
    "    dot_p = sum(x*y for x,y in zip(v1,v2))\n",
    "    return dot_p\n",
    "\n",
    "class LinearRegression:\n",
    "    def __init__(self, lr, epochs):\n",
    "        self.lr = lr\n",
    "        self.w =None\n",
    "        self.b = None\n",
    "        self.epochs = epochs\n",
    "\n",
    "    \n",
    "    def fit(self, X, y):\n",
    "        self.w = [0]\n",
    "        self.b = 0\n",
    "\n",
    "        for _ in range(self.epochs):\n",
    "            y_predicted = [dot(x,self.w) + self.b for x in X]\n",
    "            dJ,db = 0,0 \n",
    "            for i in range(len(X)):\n",
    "                dJ += (X[i] * (y_predicted[i]-y[i]))\n",
    "                db += (y_predicted[i] - y[i])\n",
    "\n",
    "            self.w -= self.lr * dJ\n",
    "            self.b -= self.lr * db\n",
    "\n",
    "    def predict(self, X):\n",
    "        prediction = [dot(self.w,x) + self.b for x in X]  # X and w are 1D arrays\n",
    "        return prediction    "
   ]
  },
  {
   "cell_type": "code",
   "execution_count": 7,
   "metadata": {},
   "outputs": [
    {
     "data": {
      "text/plain": [
       "25"
      ]
     },
     "execution_count": 7,
     "metadata": {},
     "output_type": "execute_result"
    }
   ],
   "source": [
    "LR = LinearRegression(lr=0.001,epochs= 100)\n",
    "LR.fit(X_train,Y_train)\n",
    "prediction = LR.predict(X_test)\n",
    "len(prediction)"
   ]
  },
  {
   "cell_type": "code",
   "execution_count": 20,
   "metadata": {},
   "outputs": [
    {
     "data": {
      "text/plain": [
       "[<matplotlib.lines.Line2D at 0x7f4ef9262020>]"
      ]
     },
     "execution_count": 20,
     "metadata": {},
     "output_type": "execute_result"
    },
    {
     "data": {
      "image/png": "[encoded data removed]",
      "text/plain": [
       "<Figure size 640x480 with 1 Axes>"
      ]
     },
     "metadata": {},
     "output_type": "display_data"
    }
   ],
   "source": [
    "\n",
    "plt.scatter(X_test, Y_test)\n",
    "plt.plot(X_test,prediction,'r--')"
   ]
  },
  {
   "cell_type": "markdown",
   "metadata": {},
   "source": [
    "OLS method\n",
    "\n",
    "y = b0 + b1 * x\n",
    "\n",
    "\n",
    "B1 = sum((x(i) - mean(x)) * (y(i) - mean(y))) / sum( (x(i) - mean(x))^2 )\n",
    "\n",
    "\n",
    "B0 = mean(y) - B1 * mean(x)"
   ]
  },
  {
   "cell_type": "code",
   "execution_count": 21,
   "metadata": {},
   "outputs": [],
   "source": [
    "def mean(values):\n",
    "    return sum(values)/float(len(values))\n",
    "\n",
    "def variance(values, mean):\n",
    "    return sum([(x-mean)**2 for x  in values])\n",
    "\n",
    "def covariance(x, y, mean_x, mean_y):\n",
    "    cov = 0\n",
    "    for i in range(len(x)):\n",
    "        cov += (x[i]-mean_x)*(y[i]-mean_y)\n",
    "    return cov\n",
    "####"
   ]
  },
  {
   "cell_type": "code",
   "execution_count": 22,
   "metadata": {},
   "outputs": [],
   "source": [
    "X = X_train\n",
    "y = Y_train\n",
    "mean_x = mean(X)\n",
    "mean_y = mean(y)\n",
    "\n",
    "\n",
    "b1 = covariance(X,y,mean_x,mean_y)/variance(X,mean_x)\n",
    "b0 = mean_y - b1 * mean_x"
   ]
  },
  {
   "cell_type": "code",
   "execution_count": 23,
   "metadata": {},
   "outputs": [
    {
     "data": {
      "text/plain": [
       "(array([2.22044605e-16]), array([33.86708459]))"
      ]
     },
     "execution_count": 23,
     "metadata": {},
     "output_type": "execute_result"
    }
   ],
   "source": [
    "b0,b1"
   ]
  },
  {
   "cell_type": "code",
   "execution_count": 24,
   "metadata": {},
   "outputs": [],
   "source": [
    "prediction = [b0 + b1*x for x in X_test]"
   ]
  },
  {
   "cell_type": "code",
   "execution_count": 25,
   "metadata": {},
   "outputs": [],
   "source": [
    "std_x, std_y = math.sqrt(variance(X,mean_x)),  math.sqrt(variance(y,mean_y))\n",
    "cov_xy = covariance(X,y,mean_x,mean_y)\n",
    "\n",
    "def correlation(std_x,std_y,cov_xy):\n",
    "    corr = cov_xy/(std_x*std_y)\n",
    "    return corr"
   ]
  },
  {
   "cell_type": "code",
   "execution_count": 26,
   "metadata": {},
   "outputs": [],
   "source": [
    "#Evaluation\n",
    "def mean_squared_error(predicted, actual):\n",
    "    error_sq = 0\n",
    "    for i in range(len(actual)):\n",
    "        error_sq += (actual[i] - predicted[i])**2\n",
    "    mse = error_sq/len(actual)\n",
    "    return mse\n",
    "##\n",
    "\n",
    "## Corr(X,Y) = Cov[X,Y] / ( StdDev(X) ∙ StdDev(Y) )\n",
    "\n",
    "def r2_score(predicted, actual): # measures how correlated they are\n",
    "    y  = predicted\n",
    "    X = actual\n",
    "    std_x, std_y = math.sqrt(variance(X,mean_x)),  math.sqrt(variance(y,mean_y))\n",
    "    cov_xy = covariance(X,y,mean_x,mean_y)\n",
    "    corr = correlation(std_x,std_y,cov_xy)\n",
    "    return corr\n"
   ]
  },
  {
   "cell_type": "code",
   "execution_count": 27,
   "metadata": {},
   "outputs": [
    {
     "data": {
      "text/plain": [
       "1510.0911499749982"
      ]
     },
     "execution_count": 27,
     "metadata": {},
     "output_type": "execute_result"
    }
   ],
   "source": [
    "mean_squared_error(prediction,X_test)[0]"
   ]
  },
  {
   "cell_type": "code",
   "execution_count": 28,
   "metadata": {},
   "outputs": [
    {
     "data": {
      "text/plain": [
       "0.9999999999999997"
      ]
     },
     "execution_count": 28,
     "metadata": {},
     "output_type": "execute_result"
    }
   ],
   "source": [
    "r2_score(prediction,X_test)[0] "
   ]
  },
  {
   "cell_type": "code",
   "execution_count": 29,
   "metadata": {},
   "outputs": [
    {
     "data": {
      "text/plain": [
       "[<matplotlib.lines.Line2D at 0x7f4ef90cff10>]"
      ]
     },
     "execution_count": 29,
     "metadata": {},
     "output_type": "execute_result"
    },
    {
     "data": {
      "image/png": "[encoded data removed]",
      "text/plain": [
       "<Figure size 640x480 with 1 Axes>"
      ]
     },
     "metadata": {},
     "output_type": "display_data"
    }
   ],
   "source": [
    "plt.scatter(X_test, Y_test)\n",
    "\n",
    "plt.plot(X_test,prediction,'r--')"
   ]
  },
  {
   "cell_type": "code",
   "execution_count": null,
   "metadata": {},
   "outputs": [],
   "source": []
  }
 ],
 "metadata": {
  "kernelspec": {
   "display_name": "Python 3",
   "language": "python",
   "name": "python3"
  },
  "language_info": {
   "codemirror_mode": {
    "name": "ipython",
    "version": 3
   },
   "file_extension": ".py",
   "mimetype": "text/x-python",
   "name": "python",
   "nbconvert_exporter": "python",
   "pygments_lexer": "ipython3",
   "version": "3.10.12"
  }
 },
 "nbformat": 4,
 "nbformat_minor": 2
}

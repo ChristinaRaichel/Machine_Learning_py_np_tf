{
 "cells": [
  {
   "cell_type": "code",
   "execution_count": 3,
   "metadata": {},
   "outputs": [],
   "source": [
    "from sklearn import datasets\n",
    "import matplotlib.pyplot as plt\n",
    "from sklearn.model_selection import train_test_split\n",
    "import math"
   ]
  },
  {
   "cell_type": "code",
   "execution_count": 4,
   "metadata": {},
   "outputs": [],
   "source": [
    "X,y = datasets.make_classification(n_classes=2,n_samples= 100, n_features=4)"
   ]
  },
  {
   "cell_type": "markdown",
   "metadata": {},
   "source": [
    "4 dim input matrix X, \n",
    "\n",
    "binary classification problem, \n",
    "\n",
    "y (can take 0 or 1)"
   ]
  },
  {
   "cell_type": "code",
   "execution_count": 5,
   "metadata": {},
   "outputs": [
    {
     "data": {
      "text/plain": [
       "((100, 4), (100,))"
      ]
     },
     "execution_count": 5,
     "metadata": {},
     "output_type": "execute_result"
    }
   ],
   "source": [
    "X.shape, y.shape\n"
   ]
  },
  {
   "cell_type": "code",
   "execution_count": 6,
   "metadata": {},
   "outputs": [],
   "source": [
    "X_train, X_test, y_train, y_test = train_test_split(X,y, shuffle=True)"
   ]
  },
  {
   "cell_type": "code",
   "execution_count": 7,
   "metadata": {},
   "outputs": [
    {
     "data": {
      "text/plain": [
       "[1, 2, 3, 1, 2, 3]"
      ]
     },
     "execution_count": 7,
     "metadata": {},
     "output_type": "execute_result"
    }
   ],
   "source": [
    "2*[1,2,3] ##"
   ]
  },
  {
   "cell_type": "markdown",
   "metadata": {},
   "source": [
    "Gradient Ascent method"
   ]
  },
  {
   "cell_type": "code",
   "execution_count": 8,
   "metadata": {},
   "outputs": [],
   "source": [
    "def g(z):\n",
    "    return 1/(1 +  math.exp(-z))"
   ]
  },
  {
   "cell_type": "code",
   "execution_count": 9,
   "metadata": {},
   "outputs": [],
   "source": [
    "class Logistic_Regression:\n",
    "    def __init__(self, lr, n_iter) -> None:\n",
    "        self.theta = None\n",
    "        self.lr = lr\n",
    "        self.n_iter = n_iter\n",
    "\n",
    "    def fit(self, X, y):\n",
    "        n_features = len(X[0])\n",
    "        n_samples = len(X)\n",
    "\n",
    "        self.theta =[0]* n_features\n",
    "\n",
    "        for _ in range(self.n_iter):\n",
    "            z,y_pred,dJ = [0]*n_samples,[0]*n_samples,[0]*n_samples\n",
    "\n",
    "            for i in  range(n_samples):\n",
    "                for j in range(n_features):\n",
    "                   z[i] += self.theta[j]*X[i][j]\n",
    "                y_pred[i] = g(z[i])\n",
    "\n",
    "            for j in range(n_features):\n",
    "                for i in range(n_samples):\n",
    "                    dJ[j] += (y_pred[i] - y[i])*X[i][j]\n",
    "\n",
    "            for j in range(n_features):\n",
    "                self.theta[j] -= self.lr * dJ[j]\n",
    "        \n",
    "        return self.theta\n",
    "    \n",
    "    def predict(self,X):\n",
    "        n_features = len(X[0])\n",
    "        n_samples = len(X)\n",
    "        z,y_pred = [0]*n_samples,[0]*n_samples\n",
    "\n",
    "\n",
    "        for i in  range(n_samples):\n",
    "                for j in range(n_features):\n",
    "                   z[i] = self.theta[j]*X[i][j]\n",
    "                y_pred[i] = g(z[i])\n",
    "                if y_pred[i] >= 0.5 : \n",
    "                    y_pred[i] = 1\n",
    "                else: \n",
    "                    y_pred[i] = 0\n",
    "\n",
    "        \n",
    "        return y_pred\n",
    "    \n",
    "        "
   ]
  },
  {
   "cell_type": "code",
   "execution_count": 10,
   "metadata": {},
   "outputs": [
    {
     "data": {
      "text/plain": [
       "[1, 1, 1, 1, 1, 0, 1, 0, 1, 1, 0, 1, 0, 1, 0, 0, 0, 1, 0, 0, 1, 1, 0, 1, 1]"
      ]
     },
     "execution_count": 10,
     "metadata": {},
     "output_type": "execute_result"
    }
   ],
   "source": [
    "LoR = Logistic_Regression(lr=0.001,n_iter=100)\n",
    "\n",
    "LoR.fit(X_train,y_train)\n",
    "LoR.predict(X_test)"
   ]
  },
  {
   "cell_type": "code",
   "execution_count": 11,
   "metadata": {},
   "outputs": [
    {
     "data": {
      "text/plain": [
       "<matplotlib.collections.PathCollection at 0x7f4d792ed270>"
      ]
     },
     "execution_count": 11,
     "metadata": {},
     "output_type": "execute_result"
    },
    {
     "data": {
      "image/png": "[encoded data removed]",
      "text/plain": [
       "<Figure size 640x480 with 1 Axes>"
      ]
     },
     "metadata": {},
     "output_type": "display_data"
    }
   ],
   "source": [
    "plt.scatter(X[:,0],y,c=y)"
   ]
  },
  {
   "cell_type": "code",
   "execution_count": null,
   "metadata": {},
   "outputs": [],
   "source": []
  }
 ],
 "metadata": {
  "kernelspec": {
   "display_name": "Python 3",
   "language": "python",
   "name": "python3"
  },
  "language_info": {
   "codemirror_mode": {
    "name": "ipython",
    "version": 3
   },
   "file_extension": ".py",
   "mimetype": "text/x-python",
   "name": "python",
   "nbconvert_exporter": "python",
   "pygments_lexer": "ipython3",
   "version": "3.10.12"
  }
 },
 "nbformat": 4,
 "nbformat_minor": 2
}

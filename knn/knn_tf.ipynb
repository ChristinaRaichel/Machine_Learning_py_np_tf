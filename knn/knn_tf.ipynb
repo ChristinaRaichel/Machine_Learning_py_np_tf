{
  "nbformat": 4,
  "nbformat_minor": 0,
  "metadata": {
    "colab": {
      "provenance": []
    },
    "kernelspec": {
      "name": "python3",
      "display_name": "Python 3"
    },
    "language_info": {
      "name": "python"
    }
  },
  "cells": [
    {
      "cell_type": "code",
      "source": [
        "import numpy as np\n",
        "import matplotlib.pyplot as plt\n",
        "from sklearn import datasets\n",
        "import tensorflow as tf\n"
      ],
      "metadata": {
        "id": "syifTNfYsawy"
      },
      "execution_count": 1,
      "outputs": []
    },
    {
      "cell_type": "code",
      "source": [
        "iris_data = datasets.load_iris()\n",
        "iris_data.data[:4]\n"
      ],
      "metadata": {
        "colab": {
          "base_uri": "https://localhost:8080/"
        },
        "id": "KR8k24V3s0eH",
        "outputId": "b8607c81-8022-4e84-f824-2f8344c297e6"
      },
      "execution_count": 2,
      "outputs": [
        {
          "output_type": "execute_result",
          "data": {
            "text/plain": [
              "array([[5.1, 3.5, 1.4, 0.2],\n",
              "       [4.9, 3. , 1.4, 0.2],\n",
              "       [4.7, 3.2, 1.3, 0.2],\n",
              "       [4.6, 3.1, 1.5, 0.2]])"
            ]
          },
          "metadata": {},
          "execution_count": 2
        }
      ]
    },
    {
      "cell_type": "code",
      "source": [
        "iris_data.target[:4]"
      ],
      "metadata": {
        "colab": {
          "base_uri": "https://localhost:8080/"
        },
        "id": "SHro2HlTty8v",
        "outputId": "cb9c9102-e07e-426f-f597-65e5e409a0c9"
      },
      "execution_count": 3,
      "outputs": [
        {
          "output_type": "execute_result",
          "data": {
            "text/plain": [
              "array([0, 0, 0, 0])"
            ]
          },
          "metadata": {},
          "execution_count": 3
        }
      ]
    },
    {
      "cell_type": "code",
      "source": [
        "x_variable = np.array(iris_data.data)\n",
        "y_variable = np.array(iris_data.target)"
      ],
      "metadata": {
        "id": "y6ODy_zjtSrJ"
      },
      "execution_count": 4,
      "outputs": []
    },
    {
      "cell_type": "code",
      "source": [
        "len(set(y_variable))"
      ],
      "metadata": {
        "colab": {
          "base_uri": "https://localhost:8080/"
        },
        "id": "R78jEIYNu7-e",
        "outputId": "92e2f8db-739f-41f0-9a0c-54b2fc749ed4"
      },
      "execution_count": 5,
      "outputs": [
        {
          "output_type": "execute_result",
          "data": {
            "text/plain": [
              "3"
            ]
          },
          "metadata": {},
          "execution_count": 5
        }
      ]
    },
    {
      "cell_type": "code",
      "source": [
        "#one hot encoding\n",
        "np.eye(len(set(y_variable)))\n"
      ],
      "metadata": {
        "colab": {
          "base_uri": "https://localhost:8080/"
        },
        "id": "FGxFygd5tUpZ",
        "outputId": "b9bb4d08-54ed-40b4-ef88-ce1c42c98723"
      },
      "execution_count": 6,
      "outputs": [
        {
          "output_type": "execute_result",
          "data": {
            "text/plain": [
              "array([[1., 0., 0.],\n",
              "       [0., 1., 0.],\n",
              "       [0., 0., 1.]])"
            ]
          },
          "metadata": {},
          "execution_count": 6
        }
      ]
    },
    {
      "cell_type": "code",
      "source": [
        "y_variable = np.eye(len(set(y_variable)))[y_variable]\n",
        "y_variable"
      ],
      "metadata": {
        "colab": {
          "base_uri": "https://localhost:8080/"
        },
        "id": "fSsWx5WsvHSX",
        "outputId": "6a2aac80-a248-47c6-b3af-a7800cd6c9e1"
      },
      "execution_count": 7,
      "outputs": [
        {
          "output_type": "execute_result",
          "data": {
            "text/plain": [
              "array([[1., 0., 0.],\n",
              "       [1., 0., 0.],\n",
              "       [1., 0., 0.],\n",
              "       [1., 0., 0.],\n",
              "       [1., 0., 0.],\n",
              "       [1., 0., 0.],\n",
              "       [1., 0., 0.],\n",
              "       [1., 0., 0.],\n",
              "       [1., 0., 0.],\n",
              "       [1., 0., 0.],\n",
              "       [1., 0., 0.],\n",
              "       [1., 0., 0.],\n",
              "       [1., 0., 0.],\n",
              "       [1., 0., 0.],\n",
              "       [1., 0., 0.],\n",
              "       [1., 0., 0.],\n",
              "       [1., 0., 0.],\n",
              "       [1., 0., 0.],\n",
              "       [1., 0., 0.],\n",
              "       [1., 0., 0.],\n",
              "       [1., 0., 0.],\n",
              "       [1., 0., 0.],\n",
              "       [1., 0., 0.],\n",
              "       [1., 0., 0.],\n",
              "       [1., 0., 0.],\n",
              "       [1., 0., 0.],\n",
              "       [1., 0., 0.],\n",
              "       [1., 0., 0.],\n",
              "       [1., 0., 0.],\n",
              "       [1., 0., 0.],\n",
              "       [1., 0., 0.],\n",
              "       [1., 0., 0.],\n",
              "       [1., 0., 0.],\n",
              "       [1., 0., 0.],\n",
              "       [1., 0., 0.],\n",
              "       [1., 0., 0.],\n",
              "       [1., 0., 0.],\n",
              "       [1., 0., 0.],\n",
              "       [1., 0., 0.],\n",
              "       [1., 0., 0.],\n",
              "       [1., 0., 0.],\n",
              "       [1., 0., 0.],\n",
              "       [1., 0., 0.],\n",
              "       [1., 0., 0.],\n",
              "       [1., 0., 0.],\n",
              "       [1., 0., 0.],\n",
              "       [1., 0., 0.],\n",
              "       [1., 0., 0.],\n",
              "       [1., 0., 0.],\n",
              "       [1., 0., 0.],\n",
              "       [0., 1., 0.],\n",
              "       [0., 1., 0.],\n",
              "       [0., 1., 0.],\n",
              "       [0., 1., 0.],\n",
              "       [0., 1., 0.],\n",
              "       [0., 1., 0.],\n",
              "       [0., 1., 0.],\n",
              "       [0., 1., 0.],\n",
              "       [0., 1., 0.],\n",
              "       [0., 1., 0.],\n",
              "       [0., 1., 0.],\n",
              "       [0., 1., 0.],\n",
              "       [0., 1., 0.],\n",
              "       [0., 1., 0.],\n",
              "       [0., 1., 0.],\n",
              "       [0., 1., 0.],\n",
              "       [0., 1., 0.],\n",
              "       [0., 1., 0.],\n",
              "       [0., 1., 0.],\n",
              "       [0., 1., 0.],\n",
              "       [0., 1., 0.],\n",
              "       [0., 1., 0.],\n",
              "       [0., 1., 0.],\n",
              "       [0., 1., 0.],\n",
              "       [0., 1., 0.],\n",
              "       [0., 1., 0.],\n",
              "       [0., 1., 0.],\n",
              "       [0., 1., 0.],\n",
              "       [0., 1., 0.],\n",
              "       [0., 1., 0.],\n",
              "       [0., 1., 0.],\n",
              "       [0., 1., 0.],\n",
              "       [0., 1., 0.],\n",
              "       [0., 1., 0.],\n",
              "       [0., 1., 0.],\n",
              "       [0., 1., 0.],\n",
              "       [0., 1., 0.],\n",
              "       [0., 1., 0.],\n",
              "       [0., 1., 0.],\n",
              "       [0., 1., 0.],\n",
              "       [0., 1., 0.],\n",
              "       [0., 1., 0.],\n",
              "       [0., 1., 0.],\n",
              "       [0., 1., 0.],\n",
              "       [0., 1., 0.],\n",
              "       [0., 1., 0.],\n",
              "       [0., 1., 0.],\n",
              "       [0., 1., 0.],\n",
              "       [0., 1., 0.],\n",
              "       [0., 1., 0.],\n",
              "       [0., 0., 1.],\n",
              "       [0., 0., 1.],\n",
              "       [0., 0., 1.],\n",
              "       [0., 0., 1.],\n",
              "       [0., 0., 1.],\n",
              "       [0., 0., 1.],\n",
              "       [0., 0., 1.],\n",
              "       [0., 0., 1.],\n",
              "       [0., 0., 1.],\n",
              "       [0., 0., 1.],\n",
              "       [0., 0., 1.],\n",
              "       [0., 0., 1.],\n",
              "       [0., 0., 1.],\n",
              "       [0., 0., 1.],\n",
              "       [0., 0., 1.],\n",
              "       [0., 0., 1.],\n",
              "       [0., 0., 1.],\n",
              "       [0., 0., 1.],\n",
              "       [0., 0., 1.],\n",
              "       [0., 0., 1.],\n",
              "       [0., 0., 1.],\n",
              "       [0., 0., 1.],\n",
              "       [0., 0., 1.],\n",
              "       [0., 0., 1.],\n",
              "       [0., 0., 1.],\n",
              "       [0., 0., 1.],\n",
              "       [0., 0., 1.],\n",
              "       [0., 0., 1.],\n",
              "       [0., 0., 1.],\n",
              "       [0., 0., 1.],\n",
              "       [0., 0., 1.],\n",
              "       [0., 0., 1.],\n",
              "       [0., 0., 1.],\n",
              "       [0., 0., 1.],\n",
              "       [0., 0., 1.],\n",
              "       [0., 0., 1.],\n",
              "       [0., 0., 1.],\n",
              "       [0., 0., 1.],\n",
              "       [0., 0., 1.],\n",
              "       [0., 0., 1.],\n",
              "       [0., 0., 1.],\n",
              "       [0., 0., 1.],\n",
              "       [0., 0., 1.],\n",
              "       [0., 0., 1.],\n",
              "       [0., 0., 1.],\n",
              "       [0., 0., 1.],\n",
              "       [0., 0., 1.],\n",
              "       [0., 0., 1.],\n",
              "       [0., 0., 1.],\n",
              "       [0., 0., 1.]])"
            ]
          },
          "metadata": {},
          "execution_count": 7
        }
      ]
    },
    {
      "cell_type": "code",
      "source": [
        "\"\"\"\n",
        "numpy.eye(N, M=None, k=0, dtype=<class 'float'>, order='C', *, like=None)\n",
        "\n",
        "Return a 2-D array with ones on the diagonal and zeros elsewhere.\n",
        "\n",
        "\n",
        "    N int\n",
        "\n",
        "        Number of rows in the output.\n",
        "    M int, optional\n",
        "\n",
        "        Number of columns in the output. If None, defaults to N.\n",
        "    k int, optional\n",
        "\n",
        "        Index of the diagonal: 0 (the default) refers to the main diagonal, a positive value refers to an upper diagonal, and a negative value to a lower diagonal.\n",
        "    dtypedata-type, optional\n",
        "\n",
        "        Data-type of the returned array.\n",
        "    order{‘C’, ‘F’}, optional\n",
        "\n",
        "        Whether the output should be stored in row-major (C-style) or column-major (Fortran-style) order in memory\n",
        "\n",
        "\n",
        "------------------\n",
        "np.eye(2, dtype=int)\n",
        "array([[1, 0],\n",
        "       [0, 1]])\n",
        "\n",
        "np.eye(3, k=1)\n",
        "array([[0.,  1.,  0.],\n",
        "       [0.,  0.,  1.],\n",
        "       [0.,  0.,  0.]])\n",
        "\n",
        "\"\"\""
      ],
      "metadata": {
        "colab": {
          "base_uri": "https://localhost:8080/",
          "height": 122
        },
        "id": "4PwdhutKulpd",
        "outputId": "a15f0f94-c20c-46b6-bea9-15606876cbdd"
      },
      "execution_count": null,
      "outputs": [
        {
          "output_type": "execute_result",
          "data": {
            "text/plain": [
              "\"\\nnumpy.eye(N, M=None, k=0, dtype=<class 'float'>, order='C', *, like=None)\\n\\nReturn a 2-D array with ones on the diagonal and zeros elsewhere.\\n\\n\\n    N int\\n\\n        Number of rows in the output.\\n    M int, optional\\n\\n        Number of columns in the output. If None, defaults to N.\\n    k int, optional\\n\\n        Index of the diagonal: 0 (the default) refers to the main diagonal, a positive value refers to an upper diagonal, and a negative value to a lower diagonal.\\n    dtypedata-type, optional\\n\\n        Data-type of the returned array.\\n    order{‘C’, ‘F’}, optional\\n\\n        Whether the output should be stored in row-major (C-style) or column-major (Fortran-style) order in memory\\n\\n\\n------------------\\nnp.eye(2, dtype=int)\\narray([[1, 0],\\n       [0, 1]])\\n\\nnp.eye(3, k=1)\\narray([[0.,  1.,  0.],\\n       [0.,  0.,  1.],\\n       [0.,  0.,  0.]])\\n\\n\""
            ],
            "application/vnd.google.colaboratory.intrinsic+json": {
              "type": "string"
            }
          },
          "metadata": {},
          "execution_count": 58
        }
      ]
    },
    {
      "cell_type": "code",
      "source": [
        "#normalise x-variable\n",
        "\n",
        "x_variable = (x_variable - x_variable.min(0))/x_variable.ptp(0)"
      ],
      "metadata": {
        "id": "Zf23mI-Wvaq_"
      },
      "execution_count": 8,
      "outputs": []
    },
    {
      "cell_type": "code",
      "source": [
        "\"\"\"\n",
        "numpy.ptp(a, axis=None, out=None, keepdims=<no value>)[source]\n",
        "\n",
        "Range of values (maximum - minimum) along an axis.\n",
        "\n",
        "The name of the function comes from the acronym for ‘peak to peak’.\n",
        "\"\"\""
      ],
      "metadata": {
        "colab": {
          "base_uri": "https://localhost:8080/",
          "height": 52
        },
        "id": "JzVvUFRevc4Q",
        "outputId": "e9b20f97-a647-4bee-e851-b418a86c8d69"
      },
      "execution_count": null,
      "outputs": [
        {
          "output_type": "execute_result",
          "data": {
            "text/plain": [
              "'\\nnumpy.ptp(a, axis=None, out=None, keepdims=<no value>)[source]\\n\\nRange of values (maximum - minimum) along an axis.\\n\\nThe name of the function comes from the acronym for ‘peak to peak’.\\n'"
            ],
            "application/vnd.google.colaboratory.intrinsic+json": {
              "type": "string"
            }
          },
          "metadata": {},
          "execution_count": 60
        }
      ]
    },
    {
      "cell_type": "code",
      "source": [
        "#split data to train and test\n",
        "np.random.seed(59)\n",
        "train_size = np.random.choice(len(x_variable), round(len(x_variable)*0.8),replace=False)\n",
        "test_size = np.array(list(set(range(len(x_variable)))-set(train_size))) ##"
      ],
      "metadata": {
        "id": "GFF7nZ-qv_aN"
      },
      "execution_count": 9,
      "outputs": []
    },
    {
      "cell_type": "code",
      "source": [
        "train_size, test_size"
      ],
      "metadata": {
        "colab": {
          "base_uri": "https://localhost:8080/"
        },
        "id": "Hwid3UCRyxSB",
        "outputId": "e5ce87c6-e30a-4af1-f76c-389207274c65"
      },
      "execution_count": 10,
      "outputs": [
        {
          "output_type": "execute_result",
          "data": {
            "text/plain": [
              "(array([ 91,  31, 131, 125, 119, 115,  89,  48, 143, 147, 124,  58,  79,\n",
              "         49,  43,  23, 109,  92,  20, 104,  75, 137, 114, 110,  82, 144,\n",
              "         61,  47,  28,   0,  27, 133,  71, 149, 100, 112, 108,  19,  30,\n",
              "        129, 148,  96, 126,  77,   1,  10,  81,  18,  98,   8,  63,  12,\n",
              "        146,  22,  26, 139,  99,  16,  34,  62,  15,  80,  25, 135, 136,\n",
              "         56,  24, 134, 142, 117,  94,  13,  65, 123,  88,  46,  60,  85,\n",
              "          5, 141,  42, 132,  38, 101,  86,  70,   7,  36,  11,  69,   3,\n",
              "        127, 113, 105, 111,  52,  97, 103,   6,  72,  54,  17, 116,  55,\n",
              "          9,  37,  78,  21,  59,  84, 138,  35, 120, 106, 145,  39,  44,\n",
              "         32,   2,  87]),\n",
              " array([128, 130,   4, 140,  14,  29,  33,  40,  41,  45,  50,  51,  53,\n",
              "         57,  64,  66,  67,  68,  73,  74,  76,  83,  90,  93,  95, 102,\n",
              "        107, 118, 121, 122]))"
            ]
          },
          "metadata": {},
          "execution_count": 10
        }
      ]
    },
    {
      "cell_type": "code",
      "source": [
        "\"\"\"\n",
        "\n",
        "random.choice(a, size=None, replace=True, p=None)\n",
        "\n",
        "Generates a random sample from a given 1-D array\n",
        "\n",
        "\n",
        "    a1-D array-like or int\n",
        "\n",
        "        If an ndarray, a random sample is generated from its elements. If an int, the random sample is generated as if it were np.arange(a)\n",
        "    sizeint or tuple of ints, optional\n",
        "\n",
        "        Output shape. If the given shape is, e.g., (m, n, k), then m * n * k samples are drawn. Default is None, in which case a single value is returned.\n",
        "    replaceboolean, optional\n",
        "\n",
        "        Whether the sample is with or without replacement. Default is True, meaning that a value of a can be selected multiple times.\n",
        "    p1-D array-like, optional\n",
        "\n",
        "        The probabilities associated with each entry in a. If not given, the sample assumes a uniform distribution over all entries in a.\n",
        "\n",
        "Returns:\n",
        "\n",
        "    samplessingle item or ndarray\n",
        "\n",
        "        The generated random samples\n",
        "\n",
        "Raises:\n",
        "\n",
        "    ValueError\n",
        "\n",
        "        If a is an int and less than zero, if a or p are not 1-dimensional, if a is an array-like of size 0, if p is not a vector of probabilities, if a and p have different lengths, or if replace=False and the sample size is greater than the population size\n",
        "\n",
        "np.random.choice(5, 3)\n",
        "array([0, 3, 4])\n",
        "\n",
        "np.random.choice(5, 3, p=[0.1, 0, 0.3, 0.6, 0])\n",
        "array([3, 3, 0]) # random\n",
        "\n",
        "\"\"\""
      ],
      "metadata": {
        "colab": {
          "base_uri": "https://localhost:8080/",
          "height": 139
        },
        "id": "mNQCx1Qowvzc",
        "outputId": "c5a53a12-b14a-44af-c630-da1671a7e1c4"
      },
      "execution_count": null,
      "outputs": [
        {
          "output_type": "execute_result",
          "data": {
            "text/plain": [
              "'\\n\\nrandom.choice(a, size=None, replace=True, p=None)\\n\\nGenerates a random sample from a given 1-D array\\n\\n\\n    a1-D array-like or int\\n\\n        If an ndarray, a random sample is generated from its elements. If an int, the random sample is generated as if it were np.arange(a)\\n    sizeint or tuple of ints, optional\\n\\n        Output shape. If the given shape is, e.g., (m, n, k), then m * n * k samples are drawn. Default is None, in which case a single value is returned.\\n    replaceboolean, optional\\n\\n        Whether the sample is with or without replacement. Default is True, meaning that a value of a can be selected multiple times.\\n    p1-D array-like, optional\\n\\n        The probabilities associated with each entry in a. If not given, the sample assumes a uniform distribution over all entries in a.\\n\\nReturns:\\n\\n    samplessingle item or ndarray\\n\\n        The generated random samples\\n\\nRaises:\\n\\n    ValueError\\n\\n        If a is an int and less than zero, if a or p are not 1-dimensional, if a is an array-like of size 0, if p is not a vector of probabilities, if a and p have different lengths, or if replace=False and the sample size is greater than the population size\\n\\nnp.random.choice(5, 3)\\narray([0, 3, 4])\\n\\nnp.random.choice(5, 3, p=[0.1, 0, 0.3, 0.6, 0])\\narray([3, 3, 0]) # random\\n\\n'"
            ],
            "application/vnd.google.colaboratory.intrinsic+json": {
              "type": "string"
            }
          },
          "metadata": {},
          "execution_count": 63
        }
      ]
    },
    {
      "cell_type": "code",
      "source": [
        "x_train = x_variable[train_size]\n",
        "x_test = x_variable[test_size]\n",
        "y_train = y_variable[train_size]\n",
        "y_test = y_variable[test_size]"
      ],
      "metadata": {
        "id": "hLDR2Cf9yilp"
      },
      "execution_count": 11,
      "outputs": []
    },
    {
      "cell_type": "code",
      "source": [
        "x_train.shape,x_test.shape"
      ],
      "metadata": {
        "colab": {
          "base_uri": "https://localhost:8080/"
        },
        "id": "MSPvUVNuy7Fn",
        "outputId": "b28f4f59-6c19-4740-afd6-1d7f272a4e67"
      },
      "execution_count": 12,
      "outputs": [
        {
          "output_type": "execute_result",
          "data": {
            "text/plain": [
              "((120, 4), (30, 4))"
            ]
          },
          "metadata": {},
          "execution_count": 12
        }
      ]
    },
    {
      "cell_type": "code",
      "source": [
        "#define features\n",
        "feature_size = len(x_train[0])\n",
        "k=5\n",
        "\n"
      ],
      "metadata": {
        "id": "F2DRMaLnzRNK"
      },
      "execution_count": 13,
      "outputs": []
    },
    {
      "cell_type": "code",
      "source": [
        "\"\"\"\n",
        "Given a tensor input, this operation inserts a dimension of length 1 at the dimension index axis of input's shape. The dimension index follows Python indexing rules: It's zero-based, a negative index it is counted backward from the end.\n",
        "\n",
        "This operation is useful to:\n",
        "\n",
        "    Add an outer \"batch\" dimension to a single element.\n",
        "    Align axes for broadcasting.\n",
        "    To add an inner vector length axis to a tensor of scalars.\n",
        "\n",
        "\n",
        "image = tf.zeros([10,10,3])\n",
        "\n",
        "tf.expand_dims(image, axis=0).shape.as_list()\n",
        "[1,10,10,3]\n",
        "\n",
        "tf.expand_dims(image, axis=1).shape.as_list()\n",
        "[10,1,10,3]\n",
        "\n",
        "\"\"\""
      ],
      "metadata": {
        "id": "Qfcqqazi6i6A"
      },
      "execution_count": null,
      "outputs": []
    },
    {
      "cell_type": "code",
      "source": [
        "expanded_train = tf.expand_dims(x_train,0)\n",
        "expanded_test = tf.expand_dims(x_test,1)\n",
        "\n",
        "expanded_train.shape,expanded_test.shape\n"
      ],
      "metadata": {
        "colab": {
          "base_uri": "https://localhost:8080/"
        },
        "id": "CZRqvm0x4-Db",
        "outputId": "a9bdb7ed-4a88-4e90-b130-0ba8868c9076"
      },
      "execution_count": 17,
      "outputs": [
        {
          "output_type": "execute_result",
          "data": {
            "text/plain": [
              "(TensorShape([1, 120, 4]), TensorShape([30, 1, 4]))"
            ]
          },
          "metadata": {},
          "execution_count": 17
        }
      ]
    },
    {
      "cell_type": "code",
      "source": [
        "tf.subtract(expanded_train,expanded_test)"
      ],
      "metadata": {
        "colab": {
          "base_uri": "https://localhost:8080/"
        },
        "id": "P2NelUJiwpSB",
        "outputId": "faf506b6-9dd3-44df-804a-b72ec7d89718"
      },
      "execution_count": 33,
      "outputs": [
        {
          "output_type": "execute_result",
          "data": {
            "text/plain": [
              "<tf.Tensor: shape=(30, 120, 4), dtype=float64, numpy=\n",
              "array([[[-0.08333333,  0.08333333, -0.16949153, -0.29166667],\n",
              "        [-0.27777778,  0.25      , -0.69491525, -0.70833333],\n",
              "        [ 0.41666667,  0.41666667,  0.13559322, -0.04166667],\n",
              "        ...,\n",
              "        [-0.33333333,  0.54166667, -0.69491525, -0.83333333],\n",
              "        [-0.47222222,  0.16666667, -0.72881356, -0.79166667],\n",
              "        [-0.02777778, -0.20833333, -0.20338983, -0.33333333]],\n",
              "\n",
              "       [[-0.36111111,  0.08333333, -0.25423729, -0.20833333],\n",
              "        [-0.55555556,  0.25      , -0.77966102, -0.625     ],\n",
              "        [ 0.13888889,  0.41666667,  0.05084746,  0.04166667],\n",
              "        ...,\n",
              "        [-0.61111111,  0.54166667, -0.77966102, -0.75      ],\n",
              "        [-0.75      ,  0.16666667, -0.81355932, -0.70833333],\n",
              "        [-0.30555556, -0.20833333, -0.28813559, -0.25      ]],\n",
              "\n",
              "       [[ 0.30555556, -0.25      ,  0.54237288,  0.5       ],\n",
              "        [ 0.11111111, -0.08333333,  0.01694915,  0.08333333],\n",
              "        [ 0.80555556,  0.08333333,  0.84745763,  0.75      ],\n",
              "        ...,\n",
              "        [ 0.05555556,  0.20833333,  0.01694915, -0.04166667],\n",
              "        [-0.08333333, -0.16666667, -0.01694915,  0.        ],\n",
              "        [ 0.36111111, -0.54166667,  0.50847458,  0.45833333]],\n",
              "\n",
              "       ...,\n",
              "\n",
              "       [[-0.44444444,  0.16666667, -0.38983051, -0.375     ],\n",
              "        [-0.63888889,  0.33333333, -0.91525424, -0.79166667],\n",
              "        [ 0.05555556,  0.5       , -0.08474576, -0.125     ],\n",
              "        ...,\n",
              "        [-0.69444444,  0.625     , -0.91525424, -0.91666667],\n",
              "        [-0.83333333,  0.25      , -0.94915254, -0.875     ],\n",
              "        [-0.38888889, -0.125     , -0.42372881, -0.41666667]],\n",
              "\n",
              "       [[ 0.13888889,  0.08333333, -0.05084746, -0.25      ],\n",
              "        [-0.05555556,  0.25      , -0.57627119, -0.66666667],\n",
              "        [ 0.63888889,  0.41666667,  0.25423729,  0.        ],\n",
              "        ...,\n",
              "        [-0.11111111,  0.54166667, -0.57627119, -0.79166667],\n",
              "        [-0.25      ,  0.16666667, -0.61016949, -0.75      ],\n",
              "        [ 0.19444444, -0.20833333, -0.08474576, -0.29166667]],\n",
              "\n",
              "       [[-0.44444444,  0.08333333, -0.3559322 , -0.25      ],\n",
              "        [-0.63888889,  0.25      , -0.88135593, -0.66666667],\n",
              "        [ 0.05555556,  0.41666667, -0.05084746,  0.        ],\n",
              "        ...,\n",
              "        [-0.69444444,  0.54166667, -0.88135593, -0.79166667],\n",
              "        [-0.83333333,  0.16666667, -0.91525424, -0.75      ],\n",
              "        [-0.38888889, -0.20833333, -0.38983051, -0.29166667]]])>"
            ]
          },
          "metadata": {},
          "execution_count": 33
        }
      ]
    },
    {
      "cell_type": "code",
      "source": [
        "\"\"\"\n",
        "Broadcasting\n",
        "\n",
        "https://www.geeksforgeeks.org/how-to-fix-valueerror-operands-could-not-be-broadcast-together-with-shapes/\n",
        "\"\"\""
      ],
      "metadata": {
        "id": "rWHM-umuAf93"
      },
      "execution_count": null,
      "outputs": []
    },
    {
      "cell_type": "code",
      "source": [
        "\n",
        "#manhattan\n",
        "distance = tf.reduce_sum(tf.abs(tf.subtract(expanded_train,expanded_test)),2)\n",
        "\"\"\"\n",
        "\n",
        " Manhattan Distance = | x 1 − x 2 | + | y 1 − y 2 | . An analogous relationship can be defined in a higher-dimensional space. Nearest-neighbor methods have the advantage that they are easy to implement.\n",
        " \"\"\""
      ],
      "metadata": {
        "id": "nDqHXKpf3OnY"
      },
      "execution_count": 22,
      "outputs": []
    },
    {
      "cell_type": "code",
      "source": [
        "\"\"\"\n",
        "tf.subtract() : Do Element wise subtraction with x & y\n",
        "It can subtract list, tuple, scaler, TensorFlow variable/constant/placeholder/SparceMatrix with each other and with scaler and with list/tuple.\"\"\""
      ],
      "metadata": {
        "id": "-qhw76fX9gWW"
      },
      "execution_count": null,
      "outputs": []
    },
    {
      "cell_type": "code",
      "source": [
        "\"\"\"\n",
        "\n",
        "\n",
        "x has a shape of (2, 3) (two rows and three columns):\n",
        "\n",
        "1 1 1\n",
        "1 1 1\n",
        "\n",
        "By doing tf.reduce_sum(x, 0) the tensor is reduced along the first dimension (rows), so the result is [1, 1, 1] + [1, 1, 1] = [2, 2, 2].\n",
        "\n",
        "By doing tf.reduce_sum(x, 1) the tensor is reduced along the second dimension (columns), so the result is [1, 1] + [1, 1] + [1, 1] = [3, 3].\n",
        "\n",
        "By doing tf.reduce_sum(x, [0, 1]) the tensor is reduced along BOTH dimensions (rows and columns), so the result is 1 + 1 + 1 + 1 + 1 + 1 = 6 or, equivalently, [1, 1, 1] + [1, 1, 1] = [2, 2, 2], and then 2 + 2 + 2 = 6 (reduce along rows, then reduce the resulted array).\n",
        "\"\"\"\n"
      ],
      "metadata": {
        "id": "WmSk4lnG89rp"
      },
      "execution_count": null,
      "outputs": []
    },
    {
      "cell_type": "code",
      "source": [
        "distance"
      ],
      "metadata": {
        "id": "YWCeU80b0EzJ",
        "colab": {
          "base_uri": "https://localhost:8080/"
        },
        "outputId": "9c0854fc-b4cd-4370-aac7-ebd1699400e9"
      },
      "execution_count": 23,
      "outputs": [
        {
          "output_type": "execute_result",
          "data": {
            "text/plain": [
              "<tf.Tensor: shape=(30, 120), dtype=float64, numpy=\n",
              "array([[0.62782486, 1.93102637, 1.01059322, ..., 2.40324859, 2.15936911,\n",
              "        0.77283427],\n",
              "       [0.90701507, 2.21021657, 0.64806968, ..., 2.68243879, 2.43855932,\n",
              "        1.05202448],\n",
              "       [1.59792844, 0.29472693, 2.48634652, ..., 0.32250471, 0.26694915,\n",
              "        1.86958569],\n",
              "       ...,\n",
              "       [1.37594162, 2.67914313, 0.76530132, ..., 3.15136535, 2.90748588,\n",
              "        1.35428437],\n",
              "       [0.52306968, 1.54849341, 1.30979284, ..., 2.02071563, 1.77683616,\n",
              "        0.77919021],\n",
              "       [1.13370998, 2.43691149, 0.52306968, ..., 2.90913371, 2.66525424,\n",
              "        1.2787194 ]])>"
            ]
          },
          "metadata": {},
          "execution_count": 23
        }
      ]
    },
    {
      "cell_type": "code",
      "source": [
        "_,top_k_indices = tf.nn.top_k(tf.negative(distance),k=k)"
      ],
      "metadata": {
        "id": "W5oYq1fjsWsL"
      },
      "execution_count": 24,
      "outputs": []
    },
    {
      "cell_type": "code",
      "source": [
        "tf.nn.top_k(tf.negative(distance),k=k)"
      ],
      "metadata": {
        "colab": {
          "base_uri": "https://localhost:8080/"
        },
        "id": "D2DOIDufxB60",
        "outputId": "3e3df17c-82c5-42e2-a04f-ac591168a3b1"
      },
      "execution_count": 34,
      "outputs": [
        {
          "output_type": "execute_result",
          "data": {
            "text/plain": [
              "TopKV2(values=<tf.Tensor: shape=(30, 5), dtype=float64, numpy=\n",
              "array([[-0.04166667, -0.17584746, -0.18667608, -0.19444444, -0.2113936 ],\n",
              "       [-0.28083804, -0.30696798, -0.31473635, -0.33333333, -0.41195857],\n",
              "       [-0.06944444, -0.06944444, -0.10028249, -0.11111111, -0.11417137],\n",
              "       [-0.14194915, -0.15112994, -0.15583804, -0.16195857, -0.18196798],\n",
              "       [-0.23752354, -0.25306026, -0.28695857, -0.30084746, -0.30861582],\n",
              "       [-0.05084746, -0.06167608, -0.06944444, -0.0863936 , -0.11111111],\n",
              "       [-0.18361582, -0.23917137, -0.25306026, -0.25306026, -0.28083804],\n",
              "       [-0.04472693, -0.0863936 , -0.11723164, -0.13112053, -0.13418079],\n",
              "       [-0.3363936 , -0.36111111, -0.43667608, -0.44444444, -0.4613936 ],\n",
              "       [-0.06944444, -0.08333333, -0.11723164, -0.12806026, -0.13112053],\n",
              "       [-0.14500942, -0.16666667, -0.17584746, -0.2452919 , -0.29472693],\n",
              "       [-0.14500942, -0.15889831, -0.18361582, -0.19750471, -0.2113936 ],\n",
              "       [-0.08333333, -0.15889831, -0.2113936 , -0.21751412, -0.22834275],\n",
              "       [-0.18973635, -0.22834275, -0.23446328, -0.2930791 , -0.33945386],\n",
              "       [-0.12641243, -0.12947269, -0.15419021, -0.18502825, -0.22198682],\n",
              "       [-0.05555556, -0.13418079, -0.15112994, -0.15277778, -0.19444444],\n",
              "       [-0.11723164, -0.14194915, -0.17113936, -0.19444444, -0.19750471],\n",
              "       [-0.14030132, -0.16972693, -0.22057439, -0.34722222, -0.34863465],\n",
              "       [-0.125     , -0.16031073, -0.17890772, -0.18361582, -0.18667608],\n",
              "       [-0.05555556, -0.10640301, -0.15583804, -0.17584746, -0.19279661],\n",
              "       [-0.15889831, -0.17278719, -0.2066855 , -0.2113936 , -0.2113936 ],\n",
              "       [-0.16666667, -0.18055556, -0.18055556, -0.20056497, -0.22669492],\n",
              "       [-0.14500942, -0.15112994, -0.15112994, -0.19585687, -0.19750471],\n",
              "       [-0.15889831, -0.20362524, -0.24835217, -0.30696798, -0.35334275],\n",
              "       [-0.08333333, -0.0863936 , -0.14194915, -0.17584746, -0.18055556],\n",
              "       [-0.15112994, -0.18196798, -0.22528249, -0.25      , -0.25306026],\n",
              "       [-0.20362524, -0.23752354, -0.30084746, -0.39500942, -0.39642185],\n",
              "       [-0.30225989, -0.32862524, -0.57556497, -0.66949153, -0.67561205],\n",
              "       [-0.16972693, -0.17278719, -0.17278719, -0.25612053, -0.26694915],\n",
              "       [-0.16972693, -0.31002825, -0.5       , -0.50753296, -0.52306968]])>, indices=<tf.Tensor: shape=(30, 5), dtype=int32, numpy=\n",
              "array([[ 81,  94,  19,  97,  35],\n",
              "       [  3,  93,  39,  63,  36],\n",
              "       [105,  29,  86, 101,  30],\n",
              "       [ 25, 114, 112,   8,  79],\n",
              "       [ 47,  57,  45, 117,  87],\n",
              "       [118,  27,  38,  90,  88],\n",
              "       [117,  60,  45,  57,   7],\n",
              "       [101,  29,  86,  30,  54],\n",
              "       [ 49,  82,  90,  80,  27],\n",
              "       [ 44,  51,  38,  58,  62],\n",
              "       [ 95,  84,  72,  20,  11],\n",
              "       [ 65,  84,  72,  20, 100],\n",
              "       [  6,  61,  89,  46,  70],\n",
              "       [ 48,  76,  46,  61,  12],\n",
              "       [ 74,  41,  56,  70, 103],\n",
              "       [109,  26,  74, 106, 103],\n",
              "       [ 24,  17,  12,  56,  70],\n",
              "       [  4, 119,  99, 106,  59],\n",
              "       [ 50,  32,  96,   0, 103],\n",
              "       [ 96,  11,  20,  32,  50],\n",
              "       [100,  11,  20,  84,  95],\n",
              "       [ 31,  68,  83,  73, 106],\n",
              "       [ 70,  17,   6,  89, 103],\n",
              "       [ 76,  48,  46,  61,  12],\n",
              "       [ 41,  74,  56, 103,  26],\n",
              "       [ 35,  55,  19,   8,   3],\n",
              "       [  3,  39,  93,  63,  97],\n",
              "       [ 63,  93,  69,   8, 112],\n",
              "       [ 92,  68,  83,  22,  42],\n",
              "       [ 93,  63,  69,   3,   2]], dtype=int32)>)"
            ]
          },
          "metadata": {},
          "execution_count": 34
        }
      ]
    },
    {
      "cell_type": "code",
      "source": [
        "top_k_label = tf.gather(y_train,top_k_indices) #get y vals of these data points"
      ],
      "metadata": {
        "id": "ZLSjlv64s9U0"
      },
      "execution_count": 25,
      "outputs": []
    },
    {
      "cell_type": "code",
      "source": [
        "tf.gather(y_train,top_k_indices)"
      ],
      "metadata": {
        "colab": {
          "base_uri": "https://localhost:8080/"
        },
        "id": "-WBSGpGctM9P",
        "outputId": "9f60985f-e3c8-44ad-dbd9-05ccf1154d47"
      },
      "execution_count": 36,
      "outputs": [
        {
          "output_type": "execute_result",
          "data": {
            "text/plain": [
              "<tf.Tensor: shape=(30, 5, 3), dtype=float64, numpy=\n",
              "array([[[0., 0., 1.],\n",
              "        [0., 0., 1.],\n",
              "        [0., 0., 1.],\n",
              "        [0., 0., 1.],\n",
              "        [0., 0., 1.]],\n",
              "\n",
              "       [[0., 0., 1.],\n",
              "        [0., 0., 1.],\n",
              "        [0., 0., 1.],\n",
              "        [0., 0., 1.],\n",
              "        [0., 0., 1.]],\n",
              "\n",
              "       [[1., 0., 0.],\n",
              "        [1., 0., 0.],\n",
              "        [1., 0., 0.],\n",
              "        [1., 0., 0.],\n",
              "        [1., 0., 0.]],\n",
              "\n",
              "       [[0., 0., 1.],\n",
              "        [0., 0., 1.],\n",
              "        [0., 0., 1.],\n",
              "        [0., 0., 1.],\n",
              "        [0., 0., 1.]],\n",
              "\n",
              "       [[1., 0., 0.],\n",
              "        [1., 0., 0.],\n",
              "        [1., 0., 0.],\n",
              "        [1., 0., 0.],\n",
              "        [1., 0., 0.]],\n",
              "\n",
              "       [[1., 0., 0.],\n",
              "        [1., 0., 0.],\n",
              "        [1., 0., 0.],\n",
              "        [1., 0., 0.],\n",
              "        [1., 0., 0.]],\n",
              "\n",
              "       [[1., 0., 0.],\n",
              "        [1., 0., 0.],\n",
              "        [1., 0., 0.],\n",
              "        [1., 0., 0.],\n",
              "        [1., 0., 0.]],\n",
              "\n",
              "       [[1., 0., 0.],\n",
              "        [1., 0., 0.],\n",
              "        [1., 0., 0.],\n",
              "        [1., 0., 0.],\n",
              "        [1., 0., 0.]],\n",
              "\n",
              "       [[1., 0., 0.],\n",
              "        [1., 0., 0.],\n",
              "        [1., 0., 0.],\n",
              "        [1., 0., 0.],\n",
              "        [1., 0., 0.]],\n",
              "\n",
              "       [[1., 0., 0.],\n",
              "        [1., 0., 0.],\n",
              "        [1., 0., 0.],\n",
              "        [1., 0., 0.],\n",
              "        [1., 0., 0.]],\n",
              "\n",
              "       [[0., 1., 0.],\n",
              "        [0., 1., 0.],\n",
              "        [0., 1., 0.],\n",
              "        [0., 1., 0.],\n",
              "        [0., 1., 0.]],\n",
              "\n",
              "       [[0., 1., 0.],\n",
              "        [0., 1., 0.],\n",
              "        [0., 1., 0.],\n",
              "        [0., 1., 0.],\n",
              "        [0., 1., 0.]],\n",
              "\n",
              "       [[0., 1., 0.],\n",
              "        [0., 1., 0.],\n",
              "        [0., 1., 0.],\n",
              "        [0., 1., 0.],\n",
              "        [0., 1., 0.]],\n",
              "\n",
              "       [[0., 1., 0.],\n",
              "        [0., 1., 0.],\n",
              "        [0., 1., 0.],\n",
              "        [0., 1., 0.],\n",
              "        [0., 1., 0.]],\n",
              "\n",
              "       [[0., 1., 0.],\n",
              "        [0., 1., 0.],\n",
              "        [0., 1., 0.],\n",
              "        [0., 1., 0.],\n",
              "        [0., 1., 0.]],\n",
              "\n",
              "       [[0., 1., 0.],\n",
              "        [0., 1., 0.],\n",
              "        [0., 1., 0.],\n",
              "        [0., 1., 0.],\n",
              "        [0., 1., 0.]],\n",
              "\n",
              "       [[0., 1., 0.],\n",
              "        [0., 1., 0.],\n",
              "        [0., 1., 0.],\n",
              "        [0., 1., 0.],\n",
              "        [0., 1., 0.]],\n",
              "\n",
              "       [[0., 0., 1.],\n",
              "        [0., 1., 0.],\n",
              "        [0., 1., 0.],\n",
              "        [0., 1., 0.],\n",
              "        [0., 1., 0.]],\n",
              "\n",
              "       [[0., 1., 0.],\n",
              "        [0., 1., 0.],\n",
              "        [0., 1., 0.],\n",
              "        [0., 1., 0.],\n",
              "        [0., 1., 0.]],\n",
              "\n",
              "       [[0., 1., 0.],\n",
              "        [0., 1., 0.],\n",
              "        [0., 1., 0.],\n",
              "        [0., 1., 0.],\n",
              "        [0., 1., 0.]],\n",
              "\n",
              "       [[0., 1., 0.],\n",
              "        [0., 1., 0.],\n",
              "        [0., 1., 0.],\n",
              "        [0., 1., 0.],\n",
              "        [0., 1., 0.]],\n",
              "\n",
              "       [[0., 0., 1.],\n",
              "        [0., 0., 1.],\n",
              "        [0., 0., 1.],\n",
              "        [0., 0., 1.],\n",
              "        [0., 1., 0.]],\n",
              "\n",
              "       [[0., 1., 0.],\n",
              "        [0., 1., 0.],\n",
              "        [0., 1., 0.],\n",
              "        [0., 1., 0.],\n",
              "        [0., 1., 0.]],\n",
              "\n",
              "       [[0., 1., 0.],\n",
              "        [0., 1., 0.],\n",
              "        [0., 1., 0.],\n",
              "        [0., 1., 0.],\n",
              "        [0., 1., 0.]],\n",
              "\n",
              "       [[0., 1., 0.],\n",
              "        [0., 1., 0.],\n",
              "        [0., 1., 0.],\n",
              "        [0., 1., 0.],\n",
              "        [0., 1., 0.]],\n",
              "\n",
              "       [[0., 0., 1.],\n",
              "        [0., 0., 1.],\n",
              "        [0., 0., 1.],\n",
              "        [0., 0., 1.],\n",
              "        [0., 0., 1.]],\n",
              "\n",
              "       [[0., 0., 1.],\n",
              "        [0., 0., 1.],\n",
              "        [0., 0., 1.],\n",
              "        [0., 0., 1.],\n",
              "        [0., 0., 1.]],\n",
              "\n",
              "       [[0., 0., 1.],\n",
              "        [0., 0., 1.],\n",
              "        [0., 0., 1.],\n",
              "        [0., 0., 1.],\n",
              "        [0., 0., 1.]],\n",
              "\n",
              "       [[0., 0., 1.],\n",
              "        [0., 0., 1.],\n",
              "        [0., 0., 1.],\n",
              "        [0., 0., 1.],\n",
              "        [0., 0., 1.]],\n",
              "\n",
              "       [[0., 0., 1.],\n",
              "        [0., 0., 1.],\n",
              "        [0., 0., 1.],\n",
              "        [0., 0., 1.],\n",
              "        [0., 0., 1.]]])>"
            ]
          },
          "metadata": {},
          "execution_count": 36
        }
      ]
    },
    {
      "cell_type": "code",
      "source": [
        "sum_up_predictions = tf.reduce_sum(top_k_label,axis=1)"
      ],
      "metadata": {
        "id": "n82Ih5igtSR-"
      },
      "execution_count": 28,
      "outputs": []
    },
    {
      "cell_type": "code",
      "source": [
        "sum_up_predictions"
      ],
      "metadata": {
        "colab": {
          "base_uri": "https://localhost:8080/"
        },
        "id": "9W2Z0QL9tnzy",
        "outputId": "323b462d-9675-47a9-a655-a39d2e17bfe3"
      },
      "execution_count": 29,
      "outputs": [
        {
          "output_type": "execute_result",
          "data": {
            "text/plain": [
              "<tf.Tensor: shape=(30, 3), dtype=float64, numpy=\n",
              "array([[0., 0., 5.],\n",
              "       [0., 0., 5.],\n",
              "       [5., 0., 0.],\n",
              "       [0., 0., 5.],\n",
              "       [5., 0., 0.],\n",
              "       [5., 0., 0.],\n",
              "       [5., 0., 0.],\n",
              "       [5., 0., 0.],\n",
              "       [5., 0., 0.],\n",
              "       [5., 0., 0.],\n",
              "       [0., 5., 0.],\n",
              "       [0., 5., 0.],\n",
              "       [0., 5., 0.],\n",
              "       [0., 5., 0.],\n",
              "       [0., 5., 0.],\n",
              "       [0., 5., 0.],\n",
              "       [0., 5., 0.],\n",
              "       [0., 4., 1.],\n",
              "       [0., 5., 0.],\n",
              "       [0., 5., 0.],\n",
              "       [0., 5., 0.],\n",
              "       [0., 1., 4.],\n",
              "       [0., 5., 0.],\n",
              "       [0., 5., 0.],\n",
              "       [0., 5., 0.],\n",
              "       [0., 0., 5.],\n",
              "       [0., 0., 5.],\n",
              "       [0., 0., 5.],\n",
              "       [0., 0., 5.],\n",
              "       [0., 0., 5.]])>"
            ]
          },
          "metadata": {},
          "execution_count": 29
        }
      ]
    },
    {
      "cell_type": "code",
      "source": [
        "prediction = tf.argmax(sum_up_predictions, axis=1)"
      ],
      "metadata": {
        "id": "kaBZKBNYtzDp"
      },
      "execution_count": 31,
      "outputs": []
    },
    {
      "cell_type": "code",
      "source": [
        "prediction"
      ],
      "metadata": {
        "colab": {
          "base_uri": "https://localhost:8080/"
        },
        "id": "k5Ke3aTtt5Un",
        "outputId": "01f93b2f-ad0f-4cfc-f939-4c030e131e3b"
      },
      "execution_count": 32,
      "outputs": [
        {
          "output_type": "execute_result",
          "data": {
            "text/plain": [
              "<tf.Tensor: shape=(30,), dtype=int64, numpy=\n",
              "array([2, 2, 0, 2, 0, 0, 0, 0, 0, 0, 1, 1, 1, 1, 1, 1, 1, 1, 1, 1, 1, 2,\n",
              "       1, 1, 1, 2, 2, 2, 2, 2])>"
            ]
          },
          "metadata": {},
          "execution_count": 32
        }
      ]
    },
    {
      "cell_type": "code",
      "source": [
        "\"\"\"tf.argmax()\n",
        "Returns the index with the largest value across axes of a tensor.\n",
        "\n",
        "tf.math.argmax(\n",
        "    input,\n",
        "    axis=None,\n",
        "    output_type=tf.dtypes.int64,\n",
        "    name=None\n",
        ")\n",
        "\n",
        "\n",
        "A = tf.constant([2, 20, 30, 3, 6])\n",
        "tf.math.argmax(A)  # A[2] is maximum in tensor A\n",
        "\n",
        "\n",
        "B = tf.constant([[2, 20, 30, 3, 6], [3, 11, 16, 1, 8],\n",
        "                 [14, 45, 23, 5, 27]])\n",
        "tf.math.argmax(B, 0)\n",
        "https://www.tensorflow.org/api_docs/python/tf/math/argmax\n",
        "\n",
        "\n",
        "\"\"\""
      ],
      "metadata": {
        "id": "M715pha_uAj6"
      },
      "execution_count": null,
      "outputs": []
    }
  ]
}
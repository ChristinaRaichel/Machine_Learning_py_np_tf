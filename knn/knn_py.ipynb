{
  "nbformat": 4,
  "nbformat_minor": 0,
  "metadata": {
    "colab": {
      "provenance": []
    },
    "kernelspec": {
      "name": "python3",
      "display_name": "Python 3"
    },
    "language_info": {
      "name": "python"
    }
  },
  "cells": [
    {
      "cell_type": "markdown",
      "source": [
        "**K nearest neighbour algorithm implementation using vanilla python**\n",
        "\n"
      ],
      "metadata": {
        "id": "XFDEbxxxQbuC"
      }
    },
    {
      "cell_type": "code",
      "source": [
        "import math\n",
        "import matplotlib.pyplot as plt"
      ],
      "metadata": {
        "id": "ZoIidWAMQZ4K"
      },
      "execution_count": 174,
      "outputs": []
    },
    {
      "cell_type": "code",
      "source": [
        "sample_data = [(1,0),(3,0),(5,0),(8,0),(11,0),(100,1),(304,2),(25,0),(50,0),(67,0),(400,2),(170,1)]\n",
        "# Each datapoint is a tuple : (data,label)\n",
        "# There are 3 possible classes- 0,1,2"
      ],
      "metadata": {
        "id": "ECXjHfco7X_N"
      },
      "execution_count": 175,
      "outputs": []
    },
    {
      "cell_type": "code",
      "source": [
        "#Train-test split\n",
        "train_data = sample_data[:7]\n",
        "test_data = sample_data[7:]"
      ],
      "metadata": {
        "id": "K9jD0wY-7ZYl"
      },
      "execution_count": 176,
      "outputs": []
    },
    {
      "cell_type": "code",
      "source": [
        "def vector_subtract(v,w):\n",
        "  return [v_i - w_i for v_i,w_i in zip(v,w) ]\n"
      ],
      "metadata": {
        "id": "vwsBb_su8JJq"
      },
      "execution_count": 177,
      "outputs": []
    },
    {
      "cell_type": "code",
      "source": [
        "#vector_subtract((100,1),(500,0))"
      ],
      "metadata": {
        "id": "xJYj97Bt7tfI"
      },
      "execution_count": 178,
      "outputs": []
    },
    {
      "cell_type": "code",
      "source": [
        "def distance(labeled_datapoint,new_point):\n",
        "  return abs(vector_subtract(labeled_datapoint,new_point)[0])\n"
      ],
      "metadata": {
        "id": "4SZu_luV-7QP"
      },
      "execution_count": 179,
      "outputs": []
    },
    {
      "cell_type": "code",
      "source": [
        "#print(distance((100,1),[500]))"
      ],
      "metadata": {
        "id": "vGajQoLdKL3B"
      },
      "execution_count": 180,
      "outputs": []
    },
    {
      "cell_type": "code",
      "source": [
        "def majority_vote(k_labels):\n",
        "  \"\"\"\n",
        "  input: list of labels\n",
        "  output: label with the most no.of occurences\n",
        "  \"\"\"\n",
        "  label_count_dict = {}\n",
        "  for label in k_labels:\n",
        "    if label not in label_count_dict:\n",
        "      label_count_dict[label] = 1\n",
        "    else:\n",
        "      label_count_dict[label] +=1\n",
        "  max_label_count = 0\n",
        "  for label in label_count_dict:\n",
        "    max_label_count = max(label_count_dict[label],max_label_count)\n",
        "  for label in k_labels:\n",
        "    if label_count_dict[label] == max_label_count:\n",
        "        max_label = label\n",
        "  return max_label"
      ],
      "metadata": {
        "id": "2zKHIdu1_Vyt"
      },
      "execution_count": 181,
      "outputs": []
    },
    {
      "cell_type": "code",
      "source": [
        "#majority_vote([1,2,3,2,3,5,1,1,1,6,8,8,2,1,8,8,8,8,8,8,])"
      ],
      "metadata": {
        "id": "MV2bUkrIIdOK"
      },
      "execution_count": 182,
      "outputs": []
    },
    {
      "cell_type": "code",
      "source": [
        "def knn_classify(k,labeled_points,new_point):\n",
        "  \"\"\"\n",
        "  inputs: k, list of tuples(that contain labels), new point(tuple)\n",
        "  output : predicted label of the newpoint\n",
        "  \"\"\"\n",
        "  neighbor_sorted = sorted(labeled_points,key = lambda x: distance(x,new_point)) #\n",
        "  #print(neighbor_sorted)\n",
        "  k_neighbors = neighbor_sorted[:k]\n",
        "  k_labels =[label for _,label in k_neighbors]\n",
        "  #print(k_labels)\n",
        "  return majority_vote(k_labels)\n"
      ],
      "metadata": {
        "id": "IPTfdLdD7Vr1"
      },
      "execution_count": 183,
      "outputs": []
    },
    {
      "cell_type": "code",
      "source": [
        "knn_classify(3,[(100,2),(35,1),(50,1),(350,2)],(400,1))"
      ],
      "metadata": {
        "colab": {
          "base_uri": "https://localhost:8080/"
        },
        "id": "RyIjzy-FHOwz",
        "outputId": "61f0ad04-7edb-4ede-eaa6-f05c31b119db"
      },
      "execution_count": 184,
      "outputs": [
        {
          "output_type": "execute_result",
          "data": {
            "text/plain": [
              "2"
            ]
          },
          "metadata": {},
          "execution_count": 184
        }
      ]
    },
    {
      "cell_type": "code",
      "source": [
        "##Find the best k by predicting labels for the test dataset\n",
        "errors = []\n",
        "for k in range(1,30):\n",
        "  train_data = sample_data[:6]\n",
        "  sq_error, error=0,0\n",
        "  for data in test_data:\n",
        "    predicted_val = knn_classify(k,train_data,data)\n",
        "    train_data.append(data)\n",
        "    sq_error += (predicted_val - data[1])**2\n",
        "  error=math.sqrt(sq_error)\n",
        "  errors.append(error)\n",
        "  print(f\"{k} is the value of k and prediction error is :{round(error,2)}\")\n",
        "\n",
        "plt.plot([i for i in range(1,30)],errors)\n",
        "plt.title(\"k vs error on test data\")\n",
        "\n",
        "plt.show()\n",
        "\n"
      ],
      "metadata": {
        "colab": {
          "base_uri": "https://localhost:8080/",
          "height": 956
        },
        "id": "0Kyh4n6w3f26",
        "outputId": "2aba764b-ffb8-4f59-f664-541ec5a394c3"
      },
      "execution_count": 185,
      "outputs": [
        {
          "output_type": "stream",
          "name": "stdout",
          "text": [
            "1 is the value of k and prediction error is :1.0\n",
            "2 is the value of k and prediction error is :2.45\n",
            "3 is the value of k and prediction error is :2.24\n",
            "4 is the value of k and prediction error is :2.24\n",
            "5 is the value of k and prediction error is :2.24\n",
            "6 is the value of k and prediction error is :2.24\n",
            "7 is the value of k and prediction error is :2.24\n",
            "8 is the value of k and prediction error is :2.24\n",
            "9 is the value of k and prediction error is :2.24\n",
            "10 is the value of k and prediction error is :2.24\n",
            "11 is the value of k and prediction error is :2.24\n",
            "12 is the value of k and prediction error is :2.24\n",
            "13 is the value of k and prediction error is :2.24\n",
            "14 is the value of k and prediction error is :2.24\n",
            "15 is the value of k and prediction error is :2.24\n",
            "16 is the value of k and prediction error is :2.24\n",
            "17 is the value of k and prediction error is :2.24\n",
            "18 is the value of k and prediction error is :2.24\n",
            "19 is the value of k and prediction error is :2.24\n",
            "20 is the value of k and prediction error is :2.24\n",
            "21 is the value of k and prediction error is :2.24\n",
            "22 is the value of k and prediction error is :2.24\n",
            "23 is the value of k and prediction error is :2.24\n",
            "24 is the value of k and prediction error is :2.24\n",
            "25 is the value of k and prediction error is :2.24\n",
            "26 is the value of k and prediction error is :2.24\n",
            "27 is the value of k and prediction error is :2.24\n",
            "28 is the value of k and prediction error is :2.24\n",
            "29 is the value of k and prediction error is :2.24\n"
          ]
        },
        {
          "output_type": "display_data",
          "data": {
            "text/plain": [
              "<Figure size 640x480 with 1 Axes>"
            ],
            "image/png": "[encoded data removed]"
          },
          "metadata": {}
        }
      ]
    },
    {
      "cell_type": "code",
      "source": [
        "\n",
        "# k's optimal value from the above simulation is 1\n",
        "\n",
        "new_datapoint = (400,1)"
      ],
      "metadata": {
        "id": "X3Q9a1on19qN"
      },
      "execution_count": 186,
      "outputs": []
    },
    {
      "cell_type": "code",
      "source": [
        "knn_classify(1,train_data,new_datapoint) # predicted label of (400,1) is 2"
      ],
      "metadata": {
        "colab": {
          "base_uri": "https://localhost:8080/"
        },
        "id": "ru-LzHhC327X",
        "outputId": "8e8dcecc-208d-4146-d08a-611d21ffed72"
      },
      "execution_count": 187,
      "outputs": [
        {
          "output_type": "execute_result",
          "data": {
            "text/plain": [
              "2"
            ]
          },
          "metadata": {},
          "execution_count": 187
        }
      ]
    },
    {
      "cell_type": "code",
      "source": [
        "\n",
        "markers = { \"0\" : \"o\", \"1\" : \"s\", \"2\" : \"^\" }\n",
        "colors  = { \"0\" : \"r\", \"1\" : \"b\", \"2\" : \"g\" }\n",
        "plots = { \"0\" : [], \"1\" : [], \"2\" :[] }\n",
        "\n",
        "\n",
        "for data in train_data:\n",
        "    plots[str(data[1])].append(data[0])\n",
        "\n",
        "for label, x in plots.items():\n",
        "  for item in x:\n",
        "    plt.scatter(item,label,color=colors[label], marker=markers[label],label=label,\n",
        "                     zorder=10)\n",
        "plt.show()\n"
      ],
      "metadata": {
        "colab": {
          "base_uri": "https://localhost:8080/",
          "height": 430
        },
        "id": "Fr1AXS3OMaz3",
        "outputId": "8de08753-58db-4b48-dab7-7388b38ce703"
      },
      "execution_count": 220,
      "outputs": [
        {
          "output_type": "display_data",
          "data": {
            "text/plain": [
              "<Figure size 640x480 with 1 Axes>"
            ],
            "image/png": "[encoded data removed]"
          },
          "metadata": {}
        }
      ]
    },
    {
      "cell_type": "code",
      "source": [],
      "metadata": {
        "id": "MexY37nMS3bU"
      },
      "execution_count": null,
      "outputs": []
    },
    {
      "cell_type": "code",
      "source": [],
      "metadata": {
        "id": "bNX9DffYc0G-"
      },
      "execution_count": null,
      "outputs": []
    }
  ]
}